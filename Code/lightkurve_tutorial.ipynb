{
 "cells": [
  {
   "cell_type": "markdown",
   "id": "4ccea4f9",
   "metadata": {},
   "source": [
    "# 🌟 Lightkurve Tutorial for Kepler, K2, and TESS\n",
    "\n",
    "This notebook demonstrates how to use the [Lightkurve](https://docs.lightkurve.org) Python library to search, download, and analyze light curves from NASA's **Kepler**, **K2**, and **TESS** missions.\n",
    "\n",
    "## 📚 What is Lightkurve?\n",
    "\n",
    "Lightkurve is a high-level Python package for working with astronomical time series data, especially from the **Kepler**, **K2**, and **TESS** space telescopes. It provides easy tools for:\n",
    "\n",
    "- Downloading light curve data from the MAST archive\n",
    "- Cleaning and normalizing light curves\n",
    "- Visualizing and folding periodic signals\n",
    "- Performing period analysis (e.g., BLS, Lomb-Scargle)\n",
    "- Working with target pixel files (TPFs)\n",
    "\n",
    "> 📦 Install using: `pip install lightkurve`\n",
    "\n",
    "---\n"
   ]
  },
  {
   "cell_type": "code",
   "execution_count": null,
   "id": "517377bf",
   "metadata": {},
   "outputs": [],
   "source": [
    "import lightkurve as lk\n",
    "import numpy as np\n",
    "import matplotlib.pyplot as plt\n"
   ]
  },
  {
   "cell_type": "markdown",
   "id": "e5791598",
   "metadata": {},
   "source": [
    "## 🔧 Lightkurve Command Reference\n",
    "\n",
    "### `lk.search_lightcurve(target, mission=...)`\n",
    "Searches the MAST archive for light curve data.\n",
    "- `target`: Object name or TIC/EPIC ID.\n",
    "- `mission`: `\"Kepler\"`, `\"K2\"`, or `\"TESS\"`.\n",
    "- `author`: Optional; e.g., `\"SPOC\"` or `\"QLP\"` for TESS.\n",
    "\n",
    "### `download()` and `download_all()`\n",
    "- `.download()`: Downloads the first matching light curve.\n",
    "- `.download_all()`: Downloads all light curves found.\n",
    "\n",
    "### `stitch()`\n",
    "Combines multiple segments of a light curve into one continuous light curve.\n",
    "\n",
    "### `plot()`\n",
    "Visualizes the light curve, periodogram, or target pixel file.\n",
    "- Customize using `title`, `label`, `color`, etc.\n",
    "\n",
    "### `remove_nans()`, `remove_outliers(sigma=...)`, `normalize()`\n",
    "Cleans the light curve:\n",
    "- Removes NaNs\n",
    "- Removes outliers (default `sigma=5`)\n",
    "- Normalizes so median flux = 1\n",
    "\n",
    "### `flatten(window_length, polyorder)`\n",
    "Removes long-term trends using Savitzky-Golay filter.\n",
    "\n",
    "### `to_periodogram(method=...)`\n",
    "Computes power spectrum of periodic signals:\n",
    "- `\"lombscargle\"` for continuous variability\n",
    "- `\"bls\"` for transits\n",
    "\n",
    "### `fold(period)`\n",
    "Folds the light curve at a given period to show repeated patterns.\n",
    "\n",
    "### `search_targetpixelfile(target, mission=...)`\n",
    "Gets pixel-level data (TPFs).\n",
    "\n",
    "### `create_threshold_mask(threshold=...)`\n",
    "Generates a mask to extract relevant pixels above flux threshold.\n",
    "\n",
    "### `to_lightcurve(aperture_mask=...)`\n",
    "Extracts light curve from pixel data using the given mask.\n",
    "\n",
    "### `to_fits()` and `to_csv()`\n",
    "Exports light curve to `.fits` or `.csv` format.\n",
    "\n",
    "### `interact()`\n",
    "Jupyter widget to interactively explore light curves or TPFs.\n",
    "\n",
    "---\n",
    "\n",
    "These commands form the backbone of data analysis using Lightkurve. You can chain many of them together for efficient pipelines.\n"
   ]
  },
  {
   "cell_type": "code",
   "execution_count": null,
   "id": "92edef6a",
   "metadata": {},
   "outputs": [],
   "source": [
    "# 🔍 1. Search Light Curve Examples\n",
    "kepler_search = lk.search_lightcurve(\"Kepler-10\", mission=\"Kepler\")\n",
    "k2_search = lk.search_lightcurve(\"EPIC 201367065\", mission=\"K2\")\n",
    "tess_search = lk.search_lightcurve(\"TIC 25155310\", mission=\"TESS\", author=\"SPOC\")\n",
    "\n",
    "# Display search results\n",
    "print(\"Kepler:\", kepler_search)\n",
    "print(\"K2:\", k2_search)\n",
    "print(\"TESS:\", tess_search)\n"
   ]
  },
  {
   "cell_type": "code",
   "execution_count": null,
   "id": "d9f914f7",
   "metadata": {},
   "outputs": [],
   "source": [
    "# 📥 2. Download and Stitch Light Curves\n",
    "kepler_lc = kepler_search.download_all().stitch()\n",
    "k2_lc = k2_search.download_all().stitch()\n",
    "tess_lc = tess_search.download_all().stitch()\n",
    "\n",
    "# 📈 3. Plot Raw Light Curves\n",
    "kepler_lc.plot(title=\"Kepler-10 Raw Light Curve\")\n",
    "k2_lc.plot(title=\"EPIC 201367065 Raw Light Curve\")\n",
    "tess_lc.plot(title=\"TIC 25155310 Raw Light Curve\")\n"
   ]
  },
  {
   "cell_type": "code",
   "execution_count": null,
   "id": "81ffcd3f",
   "metadata": {},
   "outputs": [],
   "source": [
    "# 🧹 4. Clean and Normalize\n",
    "kepler_clean = kepler_lc.remove_nans().remove_outliers(sigma=5).normalize()\n",
    "k2_clean = k2_lc.remove_nans().remove_outliers(sigma=5).normalize()\n",
    "tess_clean = tess_lc.remove_nans().remove_outliers(sigma=5).normalize()\n",
    "\n",
    "kepler_clean.plot(title=\"Kepler-10 Cleaned Light Curve\")\n"
   ]
  },
  {
   "cell_type": "code",
   "execution_count": null,
   "id": "b4f1fc13",
   "metadata": {},
   "outputs": [],
   "source": [
    "# 🧵 5. Flatten Light Curve\n",
    "kepler_flat = kepler_clean.flatten(window_length=401, polyorder=2)\n",
    "kepler_flat.plot(title=\"Kepler-10 Flattened Light Curve\")\n"
   ]
  },
  {
   "cell_type": "code",
   "execution_count": null,
   "id": "a775d521",
   "metadata": {},
   "outputs": [],
   "source": [
    "# 📊 6. Periodogram Analysis\n",
    "kepler_pg = kepler_flat.to_periodogram()\n",
    "kepler_pg.plot(title=\"Kepler-10 Lomb-Scargle Periodogram\")\n",
    "best_period = kepler_pg.period_at_max_power\n",
    "print(f\"Best Period: {best_period}\")\n"
   ]
  },
  {
   "cell_type": "code",
   "execution_count": null,
   "id": "fec64437",
   "metadata": {},
   "outputs": [],
   "source": [
    "# 🔁 7. Fold Light Curve\n",
    "kepler_folded = kepler_flat.fold(period=best_period)\n",
    "kepler_folded.plot(title=\"Kepler-10 Folded Light Curve\")\n"
   ]
  },
  {
   "cell_type": "code",
   "execution_count": null,
   "id": "8ef43b13",
   "metadata": {},
   "outputs": [],
   "source": [
    "# 🔍 8. Target Pixel File\n",
    "kepler_tpf = lk.search_targetpixelfile(\"Kepler-10\", mission=\"Kepler\").download()\n",
    "kepler_tpf.plot(title=\"Kepler-10 Target Pixel File\")\n"
   ]
  },
  {
   "cell_type": "code",
   "execution_count": null,
   "id": "1a595240",
   "metadata": {},
   "outputs": [],
   "source": [
    "# 🎯 9. Custom Aperture Mask\n",
    "custom_mask = kepler_tpf.create_threshold_mask(threshold=5)\n",
    "kepler_tpf.plot(aperture_mask=custom_mask, title=\"Custom Aperture Mask\")\n"
   ]
  },
  {
   "cell_type": "code",
   "execution_count": null,
   "id": "1189454a",
   "metadata": {},
   "outputs": [],
   "source": [
    "# 💡 10. Extract Custom Light Curve\n",
    "custom_lc = kepler_tpf.to_lightcurve(aperture_mask=custom_mask)\n",
    "custom_lc.plot(title=\"Custom Light Curve from TPF\")\n"
   ]
  },
  {
   "cell_type": "code",
   "execution_count": null,
   "id": "777914f4",
   "metadata": {},
   "outputs": [],
   "source": [
    "# 🧪 11. Transit Search with BLS\n",
    "bls_pg = kepler_flat.to_periodogram(method='bls', period=np.linspace(0.5, 10, 10000))\n",
    "bls_pg.plot(title=\"Kepler-10 BLS Periodogram\")\n"
   ]
  },
  {
   "cell_type": "code",
   "execution_count": null,
   "id": "81623814",
   "metadata": {},
   "outputs": [],
   "source": [
    "# 📂 12. Save to File\n",
    "kepler_flat.to_fits(\"kepler10_flat_lightcurve.fits\")\n",
    "kepler_flat.to_csv(\"kepler10_flat_lightcurve.csv\")\n"
   ]
  },
  {
   "cell_type": "code",
   "execution_count": null,
   "id": "d767a2a8",
   "metadata": {},
   "outputs": [],
   "source": [
    "# 🧠 13. Interactives (Run in Jupyter Notebook)\n",
    "# kepler_lc.interact()\n",
    "# kepler_tpf.interact()\n",
    "\n",
    "print(\"Tutorial complete!\")\n"
   ]
  }
 ],
 "metadata": {
  "language_info": {
   "name": "python"
  }
 },
 "nbformat": 4,
 "nbformat_minor": 5
}
